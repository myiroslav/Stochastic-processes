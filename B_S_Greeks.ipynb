{
  "nbformat": 4,
  "nbformat_minor": 0,
  "metadata": {
    "colab": {
      "name": "B_S_Greeks.ipynb",
      "provenance": [],
      "collapsed_sections": []
    },
    "kernelspec": {
      "name": "python3",
      "display_name": "Python 3"
    },
    "language_info": {
      "name": "python"
    }
  },
  "cells": [
    {
      "cell_type": "markdown",
      "metadata": {
        "id": "o4E6AvlmoKzo"
      },
      "source": [
        "## Black-Scholes model and greeks\n",
        "\n",
        "The Black Scholes model considers a geometric brownian motion (GBM) \n",
        "$$ \\frac{dS} S = \\mu dt + \\sigma dWt $$\n",
        "where $W$ is a standard Brownian Motion (SBM). \n",
        "\n",
        "The objective is to give a pricing formula for an asset that follows this derivative equation. \n",
        "\n",
        "By Itô's formula :\n",
        "$$V(t, S_t) = v(0, S_0) + \\int_0^t \\frac{\\partial V}{\\partial t}(u,  S_u ) du+ \\int_0^t \\frac{\\partial V}{\\partial x}(u,  S_u ) dSu +  \\frac 1 2\\int_0^t \\frac{\\partial^2 V}{\\partial x^2}(u,  S_u ) d\\langle \n",
        "S \\rangle_u $$\n",
        "\n",
        "Since $S$ is a GBM, the equation can be more simply written $d\\langle S \\rangle_u = \\sigma^2 S^2_u$.\n",
        "Hence the equation can be written\n",
        "\n",
        "\\begin{align}\n",
        "V(t, S_t) &= V(0, S_0) + \\int_0^t \\frac{\\partial V}{\\partial t}(u,  S_u ) du+ \\int_0^t \\frac{\\partial V}{\\partial x}(u,  S_u ) \\left( S_u \\mu du + \\sigma S_u dW_u \\right) +  \\frac 1 2\\int_0^t \\frac{\\partial^2 V}{\\partial x^2}(u,  S_u )\\sigma^2 S_u^2\\ du\\\\\n",
        "&= V(0, S_0) + \\int_0^t \\frac{\\partial V}{ \\partial t}(u,  S_u )+ \\mu S_u \\frac{\\partial V}{\\partial x}(u,  S_u ) du + \\int_0^t \\frac{\\partial V}{\\partial x}(u,  S_u ) \\sigma S_u dW_u + \\frac 1 2\\int_0^t \\frac{\\partial^2 V}{\\partial x^2}(u,  S_u )\\sigma^2 S_u^2\\ du\n",
        "\\end{align}\n",
        "\n",
        "In a differential form, this gives : \n",
        "$$ \\frac{\\partial V} {\\partial t} = \\left(\\mu S \\frac{\\partial V } {\\partial S} + \\frac{\\partial V } {\\partial t} + \\frac 1 2 \\sigma^2 S_u^2\\frac{\\partial^2 V}{\\partial S^2}\\right) dt + \\sigma S \\frac{\\partial V } {\\partial S} dW $$\n",
        "\n",
        "The call value in a Black-Scholes model is well known, a proof is reminded here, as well as most of the calculus concerning the Black-Scholes model : https://github.com/myiroslav/Simulation_exercises/blob/main/Simulation_calls.ipynb\n",
        " \\begin{align}\n",
        " C(K, T, r,  \\sigma, S_0) &= e^{-rT}  E  \\left( S_T \\times 1_{\\{S_T > K\\}} \\right) - K e^{-rT} P (S_T > K)\\\\\n",
        " &= N(d_1) S_t - K e^{-r(T-t)} N(d_2) \n",
        " \\end{align}\n",
        " where \n",
        "\\begin{align}\n",
        "d_1 &= \\frac 1 {\\sigma \\sqrt{T-t}} \\left( \\ln \\frac {S_t} K + \\left( r + \\frac{\\sigma^2} 2 \\right) (T-t)\\right) \\\\\n",
        "d_2 &= \\frac 1 {\\sigma \\sqrt{T-t}} \\left( \\ln \\frac {S_t} K + \\left( r - \\frac{\\sigma^2} 2 \\right) (T-t)\\right) \\\\\n",
        "&= d_1 - \\sigma \\sqrt{T-t}\n",
        "\\end{align}\n",
        "And $N$ is the CDF of the standard gaussian. \n",
        "\n"
      ]
    },
    {
      "cell_type": "code",
      "metadata": {
        "id": "bbjRS49Zn_Ov"
      },
      "source": [
        "#basic fucntions for the Black-Scholes model\n",
        "\n",
        "import numpy as np\n",
        "from scipy.integrate import quad\n",
        "import math\n",
        "import pandas as pd\n",
        "from scipy import stats\n",
        "from scipy.stats import norm\n",
        "\n",
        "def dplus(sigma, T, S0, r, K, t = 0):\n",
        "  \"\"\"The d+\"\"\"\n",
        "  return (np.log(S0*np.exp(r*(T-t))/K)/(sigma*np.sqrt(T-t))) + sigma*np.sqrt(T-t)/2\n",
        "\n",
        "def dminus(sigma, T, S0, r, K, t=0):\n",
        "  \"\"\"The d-\"\"\"\n",
        "  return (np.log(S0*np.exp(r*(T-t))/K)/(sigma*np.sqrt(T-t))) - sigma*np.sqrt(T-t)/2\n",
        "\n",
        "def CallBS(T, S0, K, sigma, r, t = 0):\n",
        "  \"\"\"Call BS\"\"\"\n",
        "  d_p = dplus(sigma, T, S0, r, K, t=t)\n",
        "  d_m = dminus(sigma, T, S0, r, K, t=t)\n",
        "  return S0*norm.pdf(d_p) - K*np.exp(-r*T)*norm.pdf(d_m)\n",
        "\n",
        "def PutBS(T, S0, K, sigma, r, t=0):\n",
        "  \"\"\"Put BS\"\"\"\n",
        "  d_p = dplus(sigma, T, S0, r, K, t=t)\n",
        "  d_m = dminus(sigma, T, S0, r, K, t=t)\n",
        "  return K*np.exp(-r*T)*norm.pdf(-d_m) - S0*norm.pdf(-d_p)"
      ],
      "execution_count": 3,
      "outputs": []
    },
    {
      "cell_type": "markdown",
      "metadata": {
        "id": "8F3al1vcoNrl"
      },
      "source": [
        "One important thing for contract is the hedging : how do I allocate my funds to cover the risks the best I can ? \n",
        "In theory, there is a continuous hedging strategy. However, in practice, one can only hedge its portfolio a certain number of time, resulting in some risk covering errors. \n",
        "\n",
        "The greeks are usefool tools to hedge a portfolio. In the Black-Scholes model, it is  possible to have closed formulas :\n",
        "\n",
        "\\begin{align}\n",
        "\\Delta_C &= \\frac{\\partial V} {\\partial S} \\\\\n",
        "&= N(d_1)\\\\\n",
        "\\Delta_P &= N(d_1) - 1\\\\\n",
        "\\Gamma_C &= \\frac{\\partial \\Delta }{\\partial S}\\\\\n",
        " &= \\frac 1 {S_t} \\frac 1 {\\sigma\\sqrt{T-t}} N'(d_1)\\\\\n",
        " \\Gamma_P &=  \\Gamma_C \\\\\n",
        " Vega_C &= \\frac{\\partial V}{\\partial \\sigma}\\\\\n",
        " &= S_t \\sqrt{T-t} N'(d_1) \\\\ \n",
        " Vega_P &= Vega_C \\\\\n",
        " \\Theta_C &= \\frac{\\partial V}{\\partial T} \\\\\n",
        "  &= \\frac{S_0 \\sigma} {2\\sqrt{T-t}}N'(d_1) - K \\exp\\left(-r(T-t)\\right)N(d_2)\\\\\n",
        "  \\Theta_P &= \\frac{\\partial V}{\\partial T} \\\\\n",
        "  &= \\frac{S_0 \\sigma} {2\\sqrt{T-t}}N'(d_1) - K \\exp\\left(-r(T-t)\\right)\\left( 1 - N(d_2)\\right)\\\\\n",
        "  \\rho_C &= \\frac{\\partial V }{\\partial r} \\\\\n",
        "  &= (T-t) K \\exp(-r(T-t)) N(d_2)\n",
        "  \\rho_P &= - (T-t) K \\exp(-r(T-t)) \\left(1-N(d_2)\\right)\n",
        "\\end{align}"
      ]
    },
    {
      "cell_type": "code",
      "metadata": {
        "id": "67npiKzsInVO"
      },
      "source": [
        "def Delta_CallBS(sigma, T, S0, r, K, t=0):\n",
        "  \"\"\"Delta Call BS\"\"\"\n",
        "  d_p = dplus(sigma, T, S0, r, K, t=t)\n",
        "  return norm.cdf(d_p)\n",
        "\n",
        "def Delta_PutBS(sigma, T, S0, r, K, t=0):\n",
        "  \"\"\"Delta Put BS\"\"\"\n",
        "  d_p = dplus(sigma, T, S0, r, K, t=t)\n",
        "  return norm.cdf(d_p) - 1\n",
        "\n",
        "def GammaBS(sigma, T, S0, r, K, t=0):\n",
        "  \"\"\"Gamma BS\"\"\"\n",
        "  d_p = dplus(sigma, T, S0, r, K, t=t)\n",
        "  return norm.pdf(d_p) / (S0*sigma*np.sqrt(T-t))\n",
        "\n",
        "def Vega(sigma, T, S0, r, K, t=0):\n",
        "  \"\"\"Vega BS\"\"\"\n",
        "  d_p = dplus(sigma, T, S0, r, K, t=t)\n",
        "  return norm.pdf(d_p) * (S0*np.sqrt(T-t))\n",
        "\n",
        "def Theta_CallBS(sigma, T, S0, r, K, t=0):\n",
        "  \"\"\"Theta Call BS\"\"\"\n",
        "  d_p = dplus(sigma, T, S0, r, K, t=t)\n",
        "  d_m = dminus(sigma, T, S0, r, K, t=t)\n",
        "\n",
        "  a = (S0*sigma) / (2*np.sqrt(T-t))\n",
        "  b = r*K*np.exp(-r*(T-t))\n",
        "\n",
        "  return a*norm.pdf(d_p) + b*norm.cdf(d_m)\n",
        "\n",
        "def Theta_PutBS(sigma, T, S0, r, K, t=0):\n",
        "  \"\"\"Theta Put BS\"\"\"\n",
        "  d_p = dplus(sigma, T, S0, r, K, t=t)\n",
        "  d_m = dminus(sigma, T, S0, r, K, t=t)\n",
        "\n",
        "  a = (S0*sigma) / (2*np.sqrt(T-t))\n",
        "  b = r*K*np.exp(-r*(T-t))\n",
        "\n",
        "  return a*norm.pdf(d_p) - b*(1-norm.cdf(d_m))\n",
        "\n",
        "def Rho_CallBS(sigma, T, S0, r, K, t=0):\n",
        "  \"\"\"Rho Call BS\"\"\"\n",
        "  d_m = dminus(sigma, T, S0, r, K, t=t)\n",
        "  return (T-t)*K*np.exp(-r*(T-t))*norm.cdf(d_m)\n",
        "\n",
        "def Rho_PutBS(sigma, T, S0, r, K, t=0):\n",
        "  \"\"\"Rho Put BS\"\"\"\n",
        "  d_m = dminus(sigma, T, S0, r, K, t=t)\n",
        "  return -(T-t)*K*np.exp(-r*(T-t))*(1-norm.cdf(d_m))\n",
        "def DeltaOfStrike(sigma, T, S0, r, K, t=0):\n",
        "  \"\"\"Variation of Call in respect to strike\"\"\"\n",
        "  d_m = dminus(sigma, T, S0, r, K, t=t)\n",
        "  return -np.exp(-r*T)*norm.cdf(d_m)"
      ],
      "execution_count": 8,
      "outputs": []
    },
    {
      "cell_type": "code",
      "metadata": {
        "colab": {
          "base_uri": "https://localhost:8080/"
        },
        "id": "zd8Fsl5QKb-J",
        "outputId": "0064f7b8-1bc4-4ad6-f7cf-2ec0aaa483f2"
      },
      "source": [
        "#sanitary check with known values (given in class)\n",
        "S0, r , T, sigma = 100, 0.02, 0.5, 0.25\n",
        "K = [95, 100, 105]\n",
        "for k in K :\n",
        "  print ('Delta = {:.3f}'.format(Delta_CallBS(sigma, T, S0, r, k)),'Delta_Strike = {:.3f}'.format(DeltaOfStrike(sigma, T, S0, r, k)), 'Gamma = {:.3f}'.format(GammaBS(sigma, T, S0, r, k)),'Vega = {:.3f}'.format(Vega(sigma, T, S0, r, k)) ,'Theta = {:.3f}'.format(Theta_CallBS(sigma, T, S0, r, k)), 'rho = {:.3f}'.format(Rho_CallBS(sigma, T, S0, r, k)) , sep = '\\t')"
      ],
      "execution_count": 23,
      "outputs": [
        {
          "output_type": "stream",
          "name": "stdout",
          "text": [
            "Delta = 0.668\tDelta_Strike = -0.596\tGamma = 0.021\tVega = 25.662\tTheta = 7.548\trho = 28.307\n",
            "Delta = 0.558\tDelta_Strike = -0.482\tGamma = 0.022\tVega = 27.915\tTheta = 7.944\trho = 24.123\n",
            "Delta = 0.448\tDelta_Strike = -0.375\tGamma = 0.022\tVega = 27.968\tTheta = 7.780\trho = 19.705\n"
          ]
        }
      ]
    }
  ]
}