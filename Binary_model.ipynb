{
  "nbformat": 4,
  "nbformat_minor": 0,
  "metadata": {
    "colab": {
      "name": "Binary_model.ipynb",
      "provenance": []
    },
    "kernelspec": {
      "name": "python3",
      "display_name": "Python 3"
    },
    "language_info": {
      "name": "python"
    }
  },
  "cells": [
    {
      "cell_type": "markdown",
      "metadata": {
        "id": "XHPeYBOKgaAR"
      },
      "source": [
        "The goal is to model a binary asset.\n",
        "\n",
        " "
      ]
    },
    {
      "cell_type": "markdown",
      "metadata": {
        "id": "B3Z0-6kUhbVS"
      },
      "source": [
        "##One time period\n",
        "\n",
        "An asset has a price $S_0$ at $t = 0$. It has a probability $p$ to cost $S_0 \\times u$ at $t =T$ and probability $1-p$ to cost $S_0 \\times d$ at time $t = T$.\n",
        "There is a riskless asset with return rate  $r$.\n",
        "\n",
        "I note $V_t = \\pi_t^0  + \\delta_t S_t$, where $\\pi$ is the cash invested, $\\delta$ the amount of asset I bought, and $S$ the price of the asset. \n",
        "\n",
        "Pricing the option associated with the binomial asset correspond to write $V_T$ = \\Psi(S_T)$, hence the hedging will be perfect and there will be no remaining ris for the hedger. \n",
        "\n",
        "I will assume that $u > 1+r > d$, otherwise there is obvious arbitrage opportunity.\n",
        "\n",
        "Let's denote $\\Psi_u$ the payoff if the price goes up, $\\Psi_d$ if the price goes down. \n",
        "\n",
        "\\begin{align}\n",
        "\\Psi_u =& \\Psi(uS_0) = (1+r)\\pi_0^0 + \\delta_0 u S_0 \\\\\n",
        "\\Psi_d =& \\Psi(dS_0) = (1+r)\\pi_0^0 + \\delta_0 d S_0\n",
        "\\end{align}\n",
        "Solving the equations gives :\n",
        "\n",
        "\\begin{align}\n",
        "\\delta_0 &= \\frac{\\Psi_u - \\Psi_d}{S_0 (u-d)}\\\\\n",
        "\\pi_0^0 &= \\frac{-d \\times \\Psi_u + u \\times \\Psi_d}{(1+r) \\times (u-d)}  \n",
        "\\end{align}\n",
        "\n",
        "By the absence of arbitrage, the option price is $V_0$. \n",
        "\n",
        "$$ V_0 = \\frac{\\Psi_u}{1+r} \\left( \\frac{1+r-d}{u-d}\\right) + \\frac{\\Psi_d}{1+r} \\left( \\frac{u - (1+r)}{u-d}\\right) $$"
      ]
    },
    {
      "cell_type": "code",
      "metadata": {
        "id": "rxDuKwLngZBt"
      },
      "source": [
        "def bin_mod_1_period (S0, u, d, r, psi):\n",
        "  ptilde = (1+r-d)/(u-d)\n",
        "  qtilde = 1 - ptilde\n",
        "  V0 = (psi(S0*u)*ptilde + psi(S0*d)*qtilde)/(1+r)\n",
        "  return V0\n",
        "  "
      ],
      "execution_count": null,
      "outputs": []
    },
    {
      "cell_type": "markdown",
      "metadata": {
        "id": "JGMKmLLin3pc"
      },
      "source": [
        "Usually, $\\Psi$ is of the form $\\left( S_T - K\\right)^+$"
      ]
    },
    {
      "cell_type": "code",
      "metadata": {
        "id": "ECsh21wigYTc"
      },
      "source": [
        "\n"
      ],
      "execution_count": null,
      "outputs": []
    }
  ]
}